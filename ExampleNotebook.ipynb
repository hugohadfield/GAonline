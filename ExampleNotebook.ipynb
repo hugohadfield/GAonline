{
 "cells": [
  {
   "cell_type": "code",
   "execution_count": 11,
   "metadata": {
    "scrolled": false
   },
   "outputs": [],
   "source": [
    "from clifford.tools.g3c.GAOnline import *\n",
    "from clifford.tools.g3c import *\n",
    "from gaonline import *"
   ]
  },
  {
   "cell_type": "code",
   "execution_count": 12,
   "metadata": {},
   "outputs": [],
   "source": [
    "L1 = random_circle()\n",
    "L2 = random_circle()\n",
    "L3 = average_objects([L1,L2])\n",
    "\n",
    "sc = GAScene()\n",
    "sc.add_circle(L1)\n",
    "sc.add_circle(L2)\n",
    "sc.add_circle(L3,'rgb(255,0,0)')"
   ]
  },
  {
   "cell_type": "code",
   "execution_count": 13,
   "metadata": {},
   "outputs": [
    {
     "name": "stdout",
     "output_type": "stream",
     "text": [
      " * Serving Flask app \"main\" (lazy loading)\n",
      " * Environment: production\n",
      "   WARNING: Do not use the development server in a production environment.\n",
      "   Use a production WSGI server instead.\n",
      " * Debug mode: off\n"
     ]
    },
    {
     "name": "stderr",
     "output_type": "stream",
     "text": [
      " * Running on http://127.0.0.1:5000/ (Press CTRL+C to quit)\n"
     ]
    },
    {
     "name": "stdout",
     "output_type": "stream",
     "text": [
      "http://localhost:5000/345aba0e9294184182bb2615c265428311add8df165f393fa6991811?show_tools=False\n"
     ]
    },
    {
     "data": {
      "text/html": [
       "\n",
       "        <iframe\n",
       "            width=\"800\"\n",
       "            height=\"650\"\n",
       "            src=\"http://localhost:5000/345aba0e9294184182bb2615c265428311add8df165f393fa6991811?show_tools=False\"\n",
       "            frameborder=\"0\"\n",
       "            allowfullscreen\n",
       "        ></iframe>\n",
       "        "
      ],
      "text/plain": [
       "<IPython.lib.display.IFrame at 0x7f44725fc7b8>"
      ]
     },
     "execution_count": 13,
     "metadata": {},
     "output_type": "execute_result"
    },
    {
     "name": "stderr",
     "output_type": "stream",
     "text": [
      "127.0.0.1 - - [03/Sep/2018 10:55:38] \"GET /345aba0e9294184182bb2615c265428311add8df165f393fa6991811?show_tools=False HTTP/1.1\" 200 -\n"
     ]
    },
    {
     "name": "stdout",
     "output_type": "stream",
     "text": [
      "RECIEVING CIRCLE\n",
      "RECIEVING CIRCLE\n",
      "Recieved blade values:  {'24': -0.53694, '20': 1.14487, '22': -1.45564, '17': 0.51327, '19': 1.02303, '18': 0.382, '23': -1.42687, '25': 0.62974, '21': 0.59941, '16': 0.32838}\n",
      "Circle:  (0.32838^e123) + (0.51327^e124) + (0.382^e125) + (1.02303^e134) + (1.14487^e135) + (0.59941^e145) - (1.45564^e234) - (1.42687^e235) - (0.53694^e245) + (0.62974^e345)\n",
      "RECIEVING CIRCLE\n",
      "Recieved blade values:  {'24': -0.3461, '20': 0.20987, '22': 0.11896, '17': 0.01381, '19': 0.28555, '18': 0.16588, '23': 0.15048, '25': 0.35291, '21': -0.87175, '16': 0.05101}\n",
      "Recieved blade values:  {'24': -0.66981, '20': 0.08384, '22': -0.81105, '17': -0.33747, '19': 0.07385, '18': -0.32867, '23': -0.75852, '25': 0.75746, '21': -0.25417, '16': 0.01582}\n",
      "Circle:  (0.05101^e123) + (0.01381^e124) + (0.16588^e125) + (0.28555^e134) + (0.20987^e135) - (0.87175^e145) + (0.11896^e234) + (0.15048^e235) - (0.3461^e245) + (0.35291^e345)\n",
      "Circle:  (0.01582^e123) - (0.33747^e124) - (0.32867^e125) + (0.07385^e134) + (0.08384^e135) - (0.25417^e145) - (0.81105^e234) - (0.75852^e235) - (0.66981^e245) + (0.75746^e345)\n",
      "Radius:  5.512858350396272\n",
      "Radius:  5.788358117185379\n",
      "Radius:  18.453386710612236\n",
      "Centre:  [-0.28661072293140366, -14.364749249227458, -12.798657241385463]\n",
      "Centre:  [2.7121487663091552, -4.685019820759637, 2.104855467357301]\n",
      "Centre:  [-4.186785852106608, -4.1578489963537475, 0.4399976594091002]\n",
      "Normal:  [0.18244890725564453, 0.4380626047305577, 0.8802349405572925]\n",
      "Normal:  [0.15860327058117094, -0.671679613750778, -0.7236653225300776]\n"
     ]
    },
    {
     "name": "stderr",
     "output_type": "stream",
     "text": [
      "127.0.0.1 - - [03/Sep/2018 10:55:38] \"POST /to_circle/ HTTP/1.1\" 200 -\n",
      "127.0.0.1 - - [03/Sep/2018 10:55:38] \"POST /to_circle/ HTTP/1.1\" 200 -\n"
     ]
    },
    {
     "name": "stdout",
     "output_type": "stream",
     "text": [
      "Normal:  [0.9693530293057645, -0.1843486914670583, 0.1623892377287396]\n"
     ]
    },
    {
     "name": "stderr",
     "output_type": "stream",
     "text": [
      "127.0.0.1 - - [03/Sep/2018 10:55:38] \"POST /to_circle/ HTTP/1.1\" 200 -\n"
     ]
    }
   ],
   "source": [
    "# Render the scene\n",
    "from IPython.display import IFrame  \n",
    "# render_script(str(sc))\n",
    "server, url, filename = render_notebook_script(str(sc))\n",
    "print(url)\n",
    "IFrame(url, width=800, height=650)"
   ]
  },
  {
   "cell_type": "code",
   "execution_count": 10,
   "metadata": {},
   "outputs": [],
   "source": [
    "# Don't forget to kill the server and delete our temporary file\n",
    "end_graphics_server(server, filename)"
   ]
  },
  {
   "cell_type": "code",
   "execution_count": null,
   "metadata": {
    "collapsed": true
   },
   "outputs": [],
   "source": []
  }
 ],
 "metadata": {
  "kernelspec": {
   "display_name": "Python 3",
   "language": "python",
   "name": "python3"
  },
  "language_info": {
   "codemirror_mode": {
    "name": "ipython",
    "version": 3
   },
   "file_extension": ".py",
   "mimetype": "text/x-python",
   "name": "python",
   "nbconvert_exporter": "python",
   "pygments_lexer": "ipython3",
   "version": "3.5.2"
  }
 },
 "nbformat": 4,
 "nbformat_minor": 1
}
