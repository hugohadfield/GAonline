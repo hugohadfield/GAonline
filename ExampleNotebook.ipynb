{
 "cells": [
  {
   "cell_type": "code",
   "execution_count": 1,
   "metadata": {
    "scrolled": false
   },
   "outputs": [],
   "source": [
    "from clifford.tools.g3c.GAOnline import *\n",
    "from clifford.tools.g3c import *\n",
    "from gaonline import *"
   ]
  },
  {
   "cell_type": "code",
   "execution_count": 2,
   "metadata": {},
   "outputs": [],
   "source": [
    "L1 = random_line()\n",
    "L2 = random_line()\n",
    "L3 = average_objects([L1,L2])\n",
    "\n",
    "sc = GAScene()\n",
    "sc.add_line(L1)\n",
    "sc.add_line(L2)\n",
    "sc.add_line(L3,'rgb(255,0,0)')"
   ]
  },
  {
   "cell_type": "code",
   "execution_count": 3,
   "metadata": {},
   "outputs": [
    {
     "name": "stderr",
     "output_type": "stream",
     "text": [
      " * Running on http://127.0.0.1:5000/ (Press CTRL+C to quit)\n"
     ]
    },
    {
     "name": "stdout",
     "output_type": "stream",
     "text": [
      "http://localhost:5000/f2769d882d9ad24e6987b1546ddae6da32571b07c1f92d0923ac2a25?show_tools=False\n"
     ]
    },
    {
     "data": {
      "text/html": [
       "\n",
       "        <iframe\n",
       "            width=\"800\"\n",
       "            height=\"650\"\n",
       "            src=\"http://localhost:5000/f2769d882d9ad24e6987b1546ddae6da32571b07c1f92d0923ac2a25?show_tools=False\"\n",
       "            frameborder=\"0\"\n",
       "            allowfullscreen\n",
       "        ></iframe>\n",
       "        "
      ],
      "text/plain": [
       "<IPython.lib.display.IFrame at 0x7f067042cf28>"
      ]
     },
     "execution_count": 3,
     "metadata": {},
     "output_type": "execute_result"
    },
    {
     "name": "stderr",
     "output_type": "stream",
     "text": [
      "127.0.0.1 - - [31/Aug/2018 12:23:47] \"\u001b[37mGET /f2769d882d9ad24e6987b1546ddae6da32571b07c1f92d0923ac2a25?show_tools=False HTTP/1.1\u001b[0m\" 200 -\n"
     ]
    },
    {
     "name": "stdout",
     "output_type": "stream",
     "text": [
      "RECIEVING LINE\n",
      "Recieved blade values:  {'17': -0.03752, '20': -0.0541, '23': 0.04072, '21': 0.32238, '22': 0.04072, '18': -0.03752, '24': -0.69122, '25': -0.64675, '19': -0.0541}\n",
      "Line:  -(0.03752^e124) - (0.03752^e125) - (0.0541^e134) - (0.0541^e135) + (0.32238^e145) + (0.04072^e234) + (0.04072^e235) - (0.69122^e245) - (0.64675^e345)\n",
      "Point:  [0.060923749400000005, -0.0142399624, 0.045587236399999995]\n",
      "Direction:  [0.32238, -0.69122, -0.64675]\n"
     ]
    },
    {
     "name": "stderr",
     "output_type": "stream",
     "text": [
      "127.0.0.1 - - [31/Aug/2018 12:23:47] \"\u001b[37mPOST /to_line/ HTTP/1.1\u001b[0m\" 200 -\n"
     ]
    },
    {
     "name": "stdout",
     "output_type": "stream",
     "text": [
      "RECIEVING LINE\n",
      "Recieved blade values:  {'17': 1.63038, '20': 1.80319, '23': 2.61736, '21': 0.64291, '22': 2.61736, '18': 1.63038, '24': 0.73336, '25': -0.22103, '19': 1.80319}\n",
      "Line:  (1.63038^e124) + (1.63038^e125) + (1.80319^e134) + (1.80319^e135) + (0.64291^e145) + (2.61736^e234) + (2.61736^e235) + (0.73336^e245) - (0.22103^e345)\n",
      "Point:  [0.7970963911, -1.6267026865999998, -3.0787560125000004]\n",
      "Direction:  [0.64291, 0.73336, -0.22103]\n"
     ]
    },
    {
     "name": "stderr",
     "output_type": "stream",
     "text": [
      "127.0.0.1 - - [31/Aug/2018 12:23:47] \"\u001b[37mPOST /to_line/ HTTP/1.1\u001b[0m\" 200 -\n"
     ]
    },
    {
     "name": "stdout",
     "output_type": "stream",
     "text": [
      "RECIEVING LINE\n",
      "Recieved blade values:  {'17': 1.66621, '20': 1.36816, '23': 1.55762, '21': 0.74328, '22': 1.55762, '18': 1.66621, '24': 0.03245, '25': -0.66819, '19': 1.36816}\n",
      "Line:  (1.66621^e124) + (1.66621^e125) + (1.36816^e134) + (1.36816^e135) + (0.74328^e145) + (1.55762^e234) + (1.55762^e235) + (0.03245^e245) - (0.66819^e345)\n",
      "Point:  [-0.8601223159, -2.2792466766, -1.0674707338000002]\n",
      "Direction:  [0.74328, 0.03245, -0.66819]\n"
     ]
    },
    {
     "name": "stderr",
     "output_type": "stream",
     "text": [
      "127.0.0.1 - - [31/Aug/2018 12:23:47] \"\u001b[37mPOST /to_line/ HTTP/1.1\u001b[0m\" 200 -\n"
     ]
    }
   ],
   "source": [
    "# Render the scene\n",
    "from IPython.display import IFrame  \n",
    "#render_script(str(sc))\n",
    "server, url, filename = render_notebook_script(str(sc))\n",
    "print(url)\n",
    "IFrame(url, width=800, height=650)"
   ]
  },
  {
   "cell_type": "code",
   "execution_count": 4,
   "metadata": {},
   "outputs": [],
   "source": [
    "# Don't forget to kill the server and delete our temporary file\n",
    "end_graphics_server(server, filename)"
   ]
  },
  {
   "cell_type": "code",
   "execution_count": null,
   "metadata": {
    "collapsed": true
   },
   "outputs": [],
   "source": []
  }
 ],
 "metadata": {
  "kernelspec": {
   "display_name": "Python 3",
   "language": "python",
   "name": "python3"
  },
  "language_info": {
   "codemirror_mode": {
    "name": "ipython",
    "version": 3
   },
   "file_extension": ".py",
   "mimetype": "text/x-python",
   "name": "python",
   "nbconvert_exporter": "python",
   "pygments_lexer": "ipython3",
   "version": "3.5.2"
  }
 },
 "nbformat": 4,
 "nbformat_minor": 1
}
