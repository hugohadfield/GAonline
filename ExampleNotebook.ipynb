{
 "cells": [
  {
   "cell_type": "code",
   "execution_count": 1,
   "metadata": {
    "scrolled": false
   },
   "outputs": [],
   "source": [
    "from clifford.tools.g3c.GAOnline import *\n",
    "from clifford.tools.g3c import *\n",
    "from clifford.tools.g3c.rotor_parameterisation import *\n",
    "from gaonline import *\n",
    "import numpy as np"
   ]
  },
  {
   "cell_type": "code",
   "execution_count": 2,
   "metadata": {},
   "outputs": [],
   "source": [
    "L1 = random_line()\n",
    "L2 = random_line()\n",
    "R = rotor_between_objects(L1,L2)\n",
    "\n",
    "sc = GAScene()\n",
    "n_interps = 20\n",
    "for alpha in np.linspace(0.0,1.0,n_interps)[:n_interps-1]:\n",
    "    R_int = interpolate_rotors(R, 1.0+0*e1, alpha)\n",
    "    L3 = apply_rotor(L1,R_int).normal()\n",
    "    sc.add_object(L3,color='rgb(255,0,0)')\n",
    "\n",
    "sc.add_object(L1)\n",
    "sc.add_object(L2)"
   ]
  },
  {
   "cell_type": "code",
   "execution_count": null,
   "metadata": {},
   "outputs": [
    {
     "name": "stdout",
     "output_type": "stream",
     "text": [
      " * Serving Flask app \"main\" (lazy loading)\n",
      " * Environment: production\n",
      "   WARNING: Do not use the development server in a production environment.\n",
      "   Use a production WSGI server instead.\n",
      " * Debug mode: off\n"
     ]
    },
    {
     "name": "stderr",
     "output_type": "stream",
     "text": [
      " * Running on http://127.0.0.1:5000/ (Press CTRL+C to quit)\n"
     ]
    },
    {
     "name": "stdout",
     "output_type": "stream",
     "text": [
      "[cef_gui.py] CEF Python 66.0\n",
      "[cef_gui.py] Python 3.5.2 64bit\n"
     ]
    },
    {
     "name": "stderr",
     "output_type": "stream",
     "text": [
      "127.0.0.1 - - [23/Oct/2018 10:51:21] \"GET /cc316fdd725b43c7c3803657bd509bd14d4eedcc6b5bafc3cc5b5900?show_tools=False HTTP/1.1\" 200 -\n",
      "127.0.0.1 - - [23/Oct/2018 10:51:21] \"GET /static/three.js HTTP/1.1\" 200 -\n",
      "127.0.0.1 - - [23/Oct/2018 10:51:21] \"GET /static/OrbitControls.js HTTP/1.1\" 200 -\n",
      "127.0.0.1 - - [23/Oct/2018 10:51:21] \"GET /static/GAOnline.js HTTP/1.1\" 200 -\n"
     ]
    },
    {
     "name": "stdout",
     "output_type": "stream",
     "text": [
      "RECIEVING LINE\n",
      "RECIEVING LINE\n",
      "Recieved blade values:  {'20': 2.36592, '17': 5.662, '25': -0.80762, '18': 5.662, '21': 0.49446, '22': 7.71038, '23': 7.71038, '19': 2.36592, '24': -0.32134}\n",
      "Line:  (5.662^e124) + (5.662^e125) + (2.36592^e134) + (2.36592^e135) + (0.49446^e145) + (7.71038^e234) + (7.71038^e235) - (0.32134^e245) - (0.80762^e345)\n",
      "RECIEVING LINE\n",
      "Recieved blade values:  {'20': 1.76462, '17': 5.42066, '25': -0.78831, '18': 5.42066, '21': 0.50775, '22': 7.20819, '23': 7.20819, '19': 1.76462, '24': -0.34749}\n",
      "Recieved blade values:  {'20': 1.17995, '17': 5.12996, '25': -0.76803, '18': 5.12996, '21': 0.52042, '22': 6.72458, '23': 6.72458, '19': 1.17995, '24': -0.37321}\n",
      "Line:  (5.42066^e124) + (5.42066^e125) + (1.76462^e134) + (1.76462^e135) + (0.50775^e145) + (7.20819^e234) + (7.20819^e235) - (0.34749^e245) - (0.78831^e345)\n",
      "RECIEVING LINE\n",
      "RECIEVING LINE\n",
      "Recieved blade values:  {'20': 0.06889, '17': 4.40647, '25': -0.72466, '18': 4.40647, '21': 0.54381, '22': 5.81821, '23': 5.81821, '19': 0.06889, '24': -0.42325}\n",
      "RECIEVING LINE\n",
      "Line:  (5.12996^e124) + (5.12996^e125) + (1.17995^e134) + (1.17995^e135) + (0.52042^e145) + (6.72458^e234) + (6.72458^e235) - (0.37321^e245) - (0.76803^e345)\n",
      "Recieved blade values:  {'20': -0.45341, '17': 3.9769, '25': -0.70162, '18': 3.9769, '21': 0.55451, '22': 5.39782, '23': 5.39782, '19': -0.45341, '24': -0.44749}\n",
      "Line:  (4.40647^e124) + (4.40647^e125) + (0.06889^e134) + (0.06889^e135) + (0.54381^e145) + (5.81821^e234) + (5.81821^e235) - (0.42325^e245) - (0.72466^e345)\n",
      "Recieved blade values:  {'20': 0.61402, '17': 4.79138, '25': -0.74681, '18': 4.79138, '21': 0.53245, '22': 6.26085, '23': 6.26085, '19': 0.61402, '24': -0.39848}\n",
      "Line:  (3.9769^e124) + (3.9769^e125) - (0.45341^e134) - (0.45341^e135) + (0.55451^e145) + (5.39782^e234) + (5.39782^e235) - (0.44749^e245) - (0.70162^e345)\n",
      "Line:  (4.79138^e124) + (4.79138^e125) + (0.61402^e134) + (0.61402^e135) + (0.53245^e145) + (6.26085^e234) + (6.26085^e235) - (0.39848^e245) - (0.74681^e345)\n",
      "Point:  [-3.7301913904, -9.0266896156, 1.307800706]\n",
      "Direction:  [0.49446, -0.32134, -0.80762]\n",
      "Point:  [-2.3678253786, -7.2268356695, 2.1678885589999997]\n",
      "Point:  [-1.9149602548999998, -6.612506509299999, 2.4250943116]\n",
      "Point:  [-2.8207893701, -7.834412960599999, 1.8956109227999995]\n",
      "Direction:  [0.54381, -0.42325, -0.72466]\n",
      "Direction:  [0.53245, -0.39848, -0.74681]\n"
     ]
    },
    {
     "name": "stderr",
     "output_type": "stream",
     "text": [
      "127.0.0.1 - - [23/Oct/2018 10:51:21] \"POST /to_line/ HTTP/1.1\" 200 -\n"
     ]
    },
    {
     "name": "stdout",
     "output_type": "stream",
     "text": [
      "Direction:  [0.52042, -0.37321, -0.76803]\n",
      "Point:  [-3.2746927356, -8.4346283739, 1.6087881381]\n",
      "Point:  [-1.4615014568, -5.9924492874, 2.6668908508999998]\n"
     ]
    },
    {
     "name": "stderr",
     "output_type": "stream",
     "text": [
      "127.0.0.1 - - [23/Oct/2018 10:51:21] \"POST /to_line/ HTTP/1.1\" 200 -\n"
     ]
    },
    {
     "name": "stdout",
     "output_type": "stream",
     "text": [
      "Direction:  [0.55451, -0.44749, -0.70162]\n",
      "RECIEVING LINE\n",
      "Direction:  [0.50775, -0.34749, -0.78831]\n"
     ]
    },
    {
     "name": "stderr",
     "output_type": "stream",
     "text": [
      "127.0.0.1 - - [23/Oct/2018 10:51:21] \"POST /to_line/ HTTP/1.1\" 200 -\n",
      "127.0.0.1 - - [23/Oct/2018 10:51:21] \"POST /to_line/ HTTP/1.1\" 200 -\n",
      "127.0.0.1 - - [23/Oct/2018 10:51:21] \"POST /to_line/ HTTP/1.1\" 200 -\n"
     ]
    },
    {
     "name": "stdout",
     "output_type": "stream",
     "text": [
      "RECIEVING LINE\n"
     ]
    },
    {
     "name": "stderr",
     "output_type": "stream",
     "text": [
      "127.0.0.1 - - [23/Oct/2018 10:51:21] \"POST /to_line/ HTTP/1.1\" 200 -\n"
     ]
    },
    {
     "name": "stdout",
     "output_type": "stream",
     "text": [
      "Recieved blade values:  {'20': -0.95093, '17': 3.50447, '25': -0.67771, '18': 3.50447, '21': 0.56453, '22': 5.00079, '23': 5.00079, '19': -0.95093, '24': -0.47119}\n",
      "Line:  (3.50447^e124) + (3.50447^e125) - (0.95093^e134) - (0.95093^e135) + (0.56453^e145) + (5.00079^e234) + (5.00079^e235) - (0.47119^e245) - (0.67771^e345)\n",
      "Recieved blade values:  {'20': -1.42178, '17': 2.99103, '25': -0.65297, '18': 2.99103, '21': 0.57385, '22': 4.62814, '23': 4.62814, '19': -1.42178, '24': -0.4943}\n",
      "RECIEVING LINE\n",
      "Point:  [-1.0068164489999998, -5.36746384, 2.893150753]\n",
      "Line:  (2.99103^e124) + (2.99103^e125) - (1.42178^e134) - (1.42178^e135) + (0.57385^e145) + (4.62814^e234) + (4.62814^e235) - (0.4943^e245) - (0.65297^e345)\n",
      "Direction:  [0.56453, -0.47119, -0.67771]\n",
      "Recieved blade values:  {'20': -1.86413, '17': 2.43856, '25': -0.62742, '18': 2.43856, '21': 0.58246, '22': 4.28084, '23': 4.28084, '19': -1.86413, '24': -0.51681}\n",
      "Point:  [-0.5500864423999999, -4.738439141300001, 3.103578055]\n",
      "RECIEVING LINE\n",
      "RECIEVING LINE\n",
      "Line:  (2.43856^e124) + (2.43856^e125) - (1.86413^e134) - (1.86413^e135) + (0.58246^e145) + (4.28084^e234) + (4.28084^e235) - (0.51681^e245) - (0.62742^e345)\n"
     ]
    },
    {
     "name": "stderr",
     "output_type": "stream",
     "text": [
      "127.0.0.1 - - [23/Oct/2018 10:51:21] \"POST /to_line/ HTTP/1.1\" 200 -\n"
     ]
    },
    {
     "name": "stdout",
     "output_type": "stream",
     "text": [
      "Recieved blade values:  {'20': -2.65632, '17': 1.2249, '25': -0.57404, '18': 1.2249, '21': 0.59751, '22': 3.66579, '23': 3.66579, '19': -2.65632, '24': -0.55988}\n",
      "Line:  (1.2249^e124) + (1.2249^e125) - (2.65632^e134) - (2.65632^e135) + (0.59751^e145) + (3.66579^e234) + (3.66579^e235) - (0.55988^e245) - (0.57404^e345)\n",
      "Recieved blade values:  {'20': -2.27621, '17': 1.84913, '25': -0.6011, '18': 1.84913, '21': 0.59035, '22': 3.95978, '23': 3.95978, '19': -2.27621, '24': -0.53867}\n",
      "RECIEVING LINE\n",
      "Direction:  [0.57385, -0.4943, -0.65297]\n",
      "Recieved blade values:  {'20': -3.00287, '17': 0.56808, '25': -0.54626, '18': 0.56808, '21': 0.60394, '22': 3.39961, '23': 3.39961, '19': -3.00287, '24': -0.58039}\n"
     ]
    },
    {
     "name": "stderr",
     "output_type": "stream",
     "text": [
      "127.0.0.1 - - [23/Oct/2018 10:51:21] \"POST /to_line/ HTTP/1.1\" 200 -\n"
     ]
    },
    {
     "name": "stdout",
     "output_type": "stream",
     "text": [
      "RECIEVING LINE\n",
      "Line:  (1.84913^e124) + (1.84913^e125) - (2.27621^e134) - (2.27621^e135) + (0.59035^e145) + (3.95978^e234) + (3.95978^e235) - (0.53867^e245) - (0.6011^e345)\n",
      "Point:  [0.8390369207999999, -2.8362000906000002, 3.6395802683999996]\n",
      "Point:  [-0.09067974899999998, -4.1062482904, 3.2981620802]\n",
      "Line:  (0.56808^e124) + (0.56808^e125) - (3.00287^e134) - (3.00287^e135) + (0.60394^e145) + (3.39961^e234) + (3.39961^e235) - (0.58039^e245) - (0.54626^e345)\n",
      "Recieved blade values:  {'20': -3.3143, '17': -0.119, '25': -0.51782, '18': -0.119, '21': 0.60962, '22': 3.16192, '23': 3.16192, '19': -3.3143, '24': -0.60019}\n",
      "Direction:  [0.58246, -0.51681, -0.62742]\n",
      "Point:  [1.3106398149999998, -2.2001571938, 3.7866529557]\n",
      "Point:  [0.37215897389999986, -3.4718576535, 3.4767752660999998]\n",
      "Direction:  [0.60394, -0.58039, -0.54626]\n",
      "Direction:  [0.59751, -0.55988, -0.57404]\n"
     ]
    },
    {
     "name": "stderr",
     "output_type": "stream",
     "text": [
      "127.0.0.1 - - [23/Oct/2018 10:51:21] \"POST /to_line/ HTTP/1.1\" 200 -\n"
     ]
    },
    {
     "name": "stdout",
     "output_type": "stream",
     "text": [
      "Line:  -(0.119^e124) - (0.119^e125) - (3.3143^e134) - (3.3143^e135) + (0.60962^e145) + (3.16192^e234) + (3.16192^e235) - (0.60019^e245) - (0.51782^e345)\n",
      "Direction:  [0.59035, -0.53867, -0.6011]\n",
      "Point:  [1.7876334359999997, -1.5647606343999996, 3.9182163308]\n",
      "RECIEVING LINE\n"
     ]
    },
    {
     "name": "stderr",
     "output_type": "stream",
     "text": [
      "127.0.0.1 - - [23/Oct/2018 10:51:21] \"POST /to_line/ HTTP/1.1\" 200 -\n"
     ]
    },
    {
     "name": "stdout",
     "output_type": "stream",
     "text": [
      "Recieved blade values:  {'20': -3.58915, '17': -0.83396, '25': -0.48874, '18': -0.83396, '21': 0.61455, '22': 2.95333, '23': 2.95333, '19': -3.58915, '24': -0.61924}\n"
     ]
    },
    {
     "name": "stderr",
     "output_type": "stream",
     "text": [
      "127.0.0.1 - - [23/Oct/2018 10:51:21] \"POST /to_line/ HTTP/1.1\" 200 -\n"
     ]
    },
    {
     "name": "stdout",
     "output_type": "stream",
     "text": [
      "RECIEVING LINE\n",
      "Line:  -(0.83396^e124) - (0.83396^e125) - (3.58915^e134) - (3.58915^e135) + (0.61455^e145) + (2.95333^e234) + (2.95333^e235) - (0.61924^e245) - (0.48874^e345)\n"
     ]
    },
    {
     "name": "stderr",
     "output_type": "stream",
     "text": [
      "127.0.0.1 - - [23/Oct/2018 10:51:21] \"POST /to_line/ HTTP/1.1\" 200 -\n"
     ]
    },
    {
     "name": "stdout",
     "output_type": "stream",
     "text": [
      "Recieved blade values:  {'20': -3.82607, '17': -1.57434, '25': -0.45905, '18': -1.57434, '21': 0.61872, '22': 2.77436, '23': 2.77436, '19': -3.82607, '24': -0.63754}\n",
      "RECIEVING LINE\n",
      "Direction:  [0.60962, -0.60019, -0.51782]\n",
      "Point:  [2.2705825614, -0.9309003861999998, 4.034532201699999]\n",
      "Line:  -(1.57434^e124) - (1.57434^e125) - (3.82607^e134) - (3.82607^e135) + (0.61872^e145) + (2.77436^e234) + (2.77436^e235) - (0.63754^e245) - (0.45905^e345)\n",
      "RECIEVING LINE\n"
     ]
    },
    {
     "name": "stderr",
     "output_type": "stream",
     "text": [
      "127.0.0.1 - - [23/Oct/2018 10:51:21] \"POST /to_line/ HTTP/1.1\" 200 -\n"
     ]
    },
    {
     "name": "stdout",
     "output_type": "stream",
     "text": [
      "Recieved blade values:  {'20': -4.02377, '17': -2.33762, '25': -0.4288, '18': -2.33762, '21': 0.62213, '22': 2.62544, '23': 2.62544, '19': -4.02377, '24': -0.65504}\n",
      "Line:  -(2.33762^e124) - (2.33762^e125) - (4.02377^e134) - (4.02377^e135) + (0.62213^e145) + (2.62544^e234) + (2.62544^e235) - (0.65504^e245) - (0.4288^e345)\n",
      "Direction:  [0.61455, -0.61924, -0.48874]\n",
      "Recieved blade values:  {'20': -4.18106, '17': -3.12122, '25': -0.39802, '18': -3.12122, '21': 0.62478, '22': 2.50696, '23': 2.50696, '19': -4.18106, '24': -0.67174}\n",
      "RECIEVING LINE\n"
     ]
    },
    {
     "name": "stderr",
     "output_type": "stream",
     "text": [
      "127.0.0.1 - - [23/Oct/2018 10:51:21] \"POST /to_line/ HTTP/1.1\" 200 -\n"
     ]
    },
    {
     "name": "stdout",
     "output_type": "stream",
     "text": [
      "Line:  -(3.12122^e124) - (3.12122^e125) - (4.18106^e134) - (4.18106^e135) + (0.62478^e145) + (2.50696^e234) + (2.50696^e235) - (0.67174^e245) - (0.39802^e345)\n",
      "Point:  [2.7600621571, -0.2994943132000001, 4.1360315048]\n",
      "Recieved blade values:  {'20': -4.29683, '17': -3.92252, '25': -0.36675, '18': -3.92252, '21': 0.62665, '22': 2.4192, '23': 2.4192, '19': -4.29683, '24': -0.68761}\n",
      "Point:  [3.2566271808, 0.32851485859999974, 4.2230762477]\n",
      "RECIEVING LINE\n",
      "Point:  [3.7607938240000003, 0.9522556124000001, 4.2962679772]\n",
      "Direction:  [0.62213, -0.65504, -0.4288]\n",
      "Direction:  [0.61872, -0.63754, -0.45905]\n"
     ]
    },
    {
     "name": "stderr",
     "output_type": "stream",
     "text": [
      "127.0.0.1 - - [23/Oct/2018 10:51:21] \"POST /to_line/ HTTP/1.1\" 200 -\n"
     ]
    },
    {
     "name": "stdout",
     "output_type": "stream",
     "text": [
      "Direction:  [0.62478, -0.67174, -0.39802]\n",
      "RECIEVING LINE\n",
      "Recieved blade values:  {'20': -4.3701, '17': -4.73882, '25': -0.33502, '18': -4.73882, '21': 0.62775, '22': 2.36237, '23': 2.36237, '19': -4.3701, '24': -0.70263}\n",
      "Line:  -(3.92252^e124) - (3.92252^e125) - (4.29683^e134) - (4.29683^e135) + (0.62665^e145) + (2.4192^e234) + (2.4192^e235) - (0.68761^e245) - (0.36675^e345)\n",
      "Point:  [4.2730263797, 1.5708055580000002, 4.3560746315]\n",
      "Recieved blade values:  {'20': 2.36592, '17': 5.662, '25': -0.80762, '18': 5.662, '21': 0.49446, '22': 7.71038, '23': 7.71038, '19': 2.36592, '24': -0.32134}\n"
     ]
    },
    {
     "name": "stderr",
     "output_type": "stream",
     "text": [
      "127.0.0.1 - - [23/Oct/2018 10:51:21] \"POST /to_line/ HTTP/1.1\" 200 -\n"
     ]
    },
    {
     "name": "stdout",
     "output_type": "stream",
     "text": [
      "Line:  -(4.73882^e124) - (4.73882^e125) - (4.3701^e134) - (4.3701^e135) + (0.62775^e145) + (2.36237^e234) + (2.36237^e235) - (0.70263^e245) - (0.33502^e345)\n",
      "Line:  (5.662^e124) + (5.662^e125) + (2.36592^e134) + (2.36592^e135) + (0.49446^e145) + (7.71038^e234) + (7.71038^e235) - (0.32134^e245) - (0.80762^e345)\n",
      "Direction:  [0.62665, -0.68761, -0.36675]\n",
      "RECIEVING LINE\n",
      "Point:  [-3.7301913904, -9.0266896156, 1.307800706]\n",
      "Point:  [4.7937079985999995, 2.1833530575999998, 4.4032023081]\n"
     ]
    },
    {
     "name": "stderr",
     "output_type": "stream",
     "text": [
      "127.0.0.1 - - [23/Oct/2018 10:51:21] \"POST /to_line/ HTTP/1.1\" 200 -\n"
     ]
    },
    {
     "name": "stdout",
     "output_type": "stream",
     "text": [
      "Direction:  [0.49446, -0.32134, -0.80762]\n"
     ]
    },
    {
     "name": "stderr",
     "output_type": "stream",
     "text": [
      "127.0.0.1 - - [23/Oct/2018 10:51:21] \"POST /to_line/ HTTP/1.1\" 200 -\n"
     ]
    },
    {
     "name": "stdout",
     "output_type": "stream",
     "text": [
      "Direction:  [0.62775, -0.70263, -0.33502]\n",
      "Recieved blade values:  {'20': -4.39994, '17': -5.56741, '25': -0.30288, '18': -5.56741, '21': 0.62807, '22': 2.3366, '23': 2.3366, '19': -4.39994, '24': -0.71679}\n",
      "Line:  -(5.56741^e124) - (5.56741^e125) - (4.39994^e134) - (4.39994^e135) + (0.62807^e145) + (2.3366^e234) + (2.3366^e235) - (0.71679^e245) - (0.30288^e345)\n"
     ]
    },
    {
     "name": "stderr",
     "output_type": "stream",
     "text": [
      "127.0.0.1 - - [23/Oct/2018 10:51:21] \"POST /to_line/ HTTP/1.1\" 200 -\n"
     ]
    },
    {
     "name": "stdout",
     "output_type": "stream",
     "text": [
      "Point:  [5.3233176411, 2.7890137907, 4.4383218298000005]\n"
     ]
    },
    {
     "name": "stderr",
     "output_type": "stream",
     "text": [
      "127.0.0.1 - - [23/Oct/2018 10:51:21] \"POST /to_line/ HTTP/1.1\" 200 -\n"
     ]
    },
    {
     "name": "stdout",
     "output_type": "stream",
     "text": [
      "Direction:  [0.62807, -0.71679, -0.30288]\n"
     ]
    },
    {
     "name": "stderr",
     "output_type": "stream",
     "text": [
      "127.0.0.1 - - [23/Oct/2018 10:51:21] \"POST /to_line/ HTTP/1.1\" 200 -\n"
     ]
    }
   ],
   "source": [
    "# Render the scene\n",
    "from IPython.display import IFrame  \n",
    "# render_script(str(sc))\n",
    "server, url, filename = render_script(str(sc))\n",
    "print(url)\n",
    "IFrame(url, width=800, height=650)"
   ]
  },
  {
   "cell_type": "code",
   "execution_count": null,
   "metadata": {},
   "outputs": [],
   "source": [
    "# Don't forget to kill the server and delete our temporary file\n",
    "end_graphics_server(server, filename)"
   ]
  },
  {
   "cell_type": "code",
   "execution_count": null,
   "metadata": {
    "collapsed": true
   },
   "outputs": [],
   "source": []
  }
 ],
 "metadata": {
  "kernelspec": {
   "display_name": "Python 3",
   "language": "python",
   "name": "python3"
  }
 },
 "nbformat": 4,
 "nbformat_minor": 1
}
